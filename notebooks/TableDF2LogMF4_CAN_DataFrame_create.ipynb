{
 "cells": [
  {
   "cell_type": "code",
   "execution_count": null,
   "id": "9e9ab5d2",
   "metadata": {},
   "outputs": [
    {
     "name": "stdout",
     "output_type": "stream",
     "text": [
      "The autoreload extension is already loaded. To reload it, use:\n",
      "  %reload_ext autoreload\n",
      "c:\\D\\proj\\gh\\can_log_utils\\utils\n"
     ]
    }
   ],
   "source": [
    "%load_ext autoreload\n",
    "%autoreload 2\n",
    "import os\n",
    "import sys\n",
    "import glob\n",
    "\n",
    "folder_to_add = os.path.abspath(os.path.join(os.getcwd(), '..', 'utils'))\n",
    "print(folder_to_add)\n",
    "# Insert the path at the beginning of sys.path\n",
    "if folder_to_add not in sys.path:\n",
    "    sys.path.insert(0, folder_to_add)\n",
    "\n",
    "import can_logs.logs_exports as logs_exports\n",
    "log_folder=r'C:\\Users\\ivanm\\Documents\\MATLAB\\EKL\\dp187_ravo\\dp187_csw\\export\\test_run\\last'\n",
    "\n",
    "csv_files = glob.glob(os.path.join(log_folder, \"*.csv\"))\n",
    "csv_file = max(csv_files, key=os.path.getmtime)\n"
   ]
  },
  {
   "cell_type": "code",
   "execution_count": null,
   "id": "5d1fa5d0",
   "metadata": {},
   "outputs": [
    {
     "name": "stdout",
     "output_type": "stream",
     "text": [
      "log file converted to C:\\Users\\ivanm\\Documents\\MATLAB\\EKL\\dp187_ravo\\dp187_csw\\export\\test_run\\last\\ThermalCanRun_20250730_104558.mf4\n"
     ]
    }
   ],
   "source": [
    "logs_exports.convert_log_csv2raw_can_mdf(csv_file)"
   ]
  }
 ],
 "metadata": {
  "kernelspec": {
   "display_name": "ekl_dp187_1",
   "language": "python",
   "name": "python3"
  },
  "language_info": {
   "codemirror_mode": {
    "name": "ipython",
    "version": 3
   },
   "file_extension": ".py",
   "mimetype": "text/x-python",
   "name": "python",
   "nbconvert_exporter": "python",
   "pygments_lexer": "ipython3",
   "version": "3.13.2"
  }
 },
 "nbformat": 4,
 "nbformat_minor": 5
}
