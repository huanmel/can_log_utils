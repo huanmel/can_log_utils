{
 "cells": [
  {
   "cell_type": "markdown",
   "metadata": {},
   "source": [
    "Example how to work with DBC database and prepare DBC channels mappings"
   ]
  },
  {
   "cell_type": "code",
   "execution_count": 7,
   "metadata": {},
   "outputs": [
    {
     "name": "stdout",
     "output_type": "stream",
     "text": [
      "The autoreload extension is already loaded. To reload it, use:\n",
      "  %reload_ext autoreload\n"
     ]
    }
   ],
   "source": [
    "%load_ext autoreload\n",
    "%autoreload 2\n",
    "import sys\n",
    "sys.path.append('..')\n",
    "import pandas as pd\n",
    "import canmatrix.formats\n",
    "# from etils import ecolab\n",
    "from pathlib import Path\n",
    "from collections import defaultdict\n",
    "import os\n",
    "from utils.can_dbc_db import CanDbcDb\n",
    "import  utils.can_logs as utls"
   ]
  },
  {
   "cell_type": "code",
   "execution_count": 9,
   "metadata": {},
   "outputs": [
    {
     "name": "stdout",
     "output_type": "stream",
     "text": [
      "total number of id: 42\n",
      "total number of dbc.msg: 57\n",
      "number of dublicated id: 12\n",
      "number of dublicated pgn: 0\n",
      "possible id conflicts:\n",
      "\tone id but different message name\n",
      "\t\tid=32 msg names: {'HvchEcm_Lin1PartNr10Fr04', 'BFPV_StatusInfo'}\n",
      "\t\tid=4 msg names: {'XCU_BFPVCtrlCmd', 'EC_Status_3'}\n",
      "\t\tid=18 msg names: {'TCU_WP_EDS2_Control', 'VCU_WP_EDS2_Control'}\n",
      "\t\tid=17 msg names: {'WP_EDS2_Status', 'AC_Message'}\n",
      "dbc db loaded\n"
     ]
    }
   ],
   "source": [
    "dbc_dir=r'C:\\Users\\ivanm\\Downloads\\temp\\FW\\EKL_DP187_v0_20251020_180400_v0.7.0_5cb89b4\\dbc'\n",
    "# load databases\n",
    "# dbc_db=DbcDb(dbc_dir,True,export_path=dbc_dir)\n",
    "dbc_db=CanDbcDb(dbc_dir,True)"
   ]
  },
  {
   "cell_type": "code",
   "execution_count": 31,
   "metadata": {},
   "outputs": [
    {
     "data": {
      "text/plain": [
       "defaultdict(<function utils.dbc_db.DbcDb.__init__.<locals>.<lambda>.<locals>.<lambda>()>,\n",
       "            {'DTS_Status1': defaultdict(list,\n",
       "                         {'info': {'id': 234488318,\n",
       "                           'is_extended': True,\n",
       "                           'is_j1939': True,\n",
       "                           'comment': 'Message with general information about current Drivetrain System state',\n",
       "                           'cycle_time': 50,\n",
       "                           'attributes': {'GenMsgCycleTime': '50',\n",
       "                            'GenMsgSendType': 'cyclic',\n",
       "                            'VFrameFormat': 'J1939PG'},\n",
       "                           'pgn': 129537,\n",
       "                           'SA': 254,\n",
       "                           'DA': None,\n",
       "                           'dbc_dubl': ['BodyCan1.dbc::DTS_Status1',\n",
       "                            'DTS_Status1.dbc::DTS_Status1']},\n",
       "                          'signals': defaultdict(dict,\n",
       "                                      {'DTS_Standstill': {'name': 'DTS_Standstill',\n",
       "                                        'unit': '',\n",
       "                                        'initial_value': 0.0,\n",
       "                                        'min': 0.0,\n",
       "                                        'max': 3.0,\n",
       "                                        'factor': 1.0,\n",
       "                                        'enumeration': None},\n",
       "                                       'DT_ReadyToSleep': {'name': 'DT_ReadyToSleep',\n",
       "                                        'unit': '',\n",
       "                                        'initial_value': 0.0,\n",
       "                                        'min': 0.0,\n",
       "                                        'max': 3.0,\n",
       "                                        'factor': 1.0,\n",
       "                                        'enumeration': None},\n",
       "                                       'DTS_SystemStatus': {'name': 'DTS_SystemStatus',\n",
       "                                        'unit': '',\n",
       "                                        'initial_value': 0.0,\n",
       "                                        'min': 0.0,\n",
       "                                        'max': 3.0,\n",
       "                                        'factor': 1.0,\n",
       "                                        'enumeration': None},\n",
       "                                       'DTS_AccrPedlSw': {'name': 'DTS_AccrPedlSw',\n",
       "                                        'unit': '',\n",
       "                                        'initial_value': 0.0,\n",
       "                                        'min': 0.0,\n",
       "                                        'max': 3.0,\n",
       "                                        'factor': 1.0,\n",
       "                                        'enumeration': None},\n",
       "                                       'DTS_BrkPedlPosn': {'name': 'DTS_BrkPedlPosn',\n",
       "                                        'unit': '%',\n",
       "                                        'initial_value': 0.0,\n",
       "                                        'min': 0.0,\n",
       "                                        'max': 127.5,\n",
       "                                        'factor': 0.5,\n",
       "                                        'enumeration': None},\n",
       "                                       'DTS_IgnitionStatus': {'name': 'DTS_IgnitionStatus',\n",
       "                                        'unit': '',\n",
       "                                        'initial_value': 0.0,\n",
       "                                        'min': 0.0,\n",
       "                                        'max': 3.0,\n",
       "                                        'factor': 1.0,\n",
       "                                        'enumeration': None},\n",
       "                                       'DTS_BrkPedlSw': {'name': 'DTS_BrkPedlSw',\n",
       "                                        'unit': '',\n",
       "                                        'initial_value': 0.0,\n",
       "                                        'min': 0.0,\n",
       "                                        'max': 3.0,\n",
       "                                        'factor': 1.0,\n",
       "                                        'enumeration': None},\n",
       "                                       'DTS_VehicleSpeed': {'name': 'DTS_VehicleSpeed',\n",
       "                                        'unit': 'km/h',\n",
       "                                        'initial_value': 0.0,\n",
       "                                        'min': -300.0,\n",
       "                                        'max': 355.35,\n",
       "                                        'factor': 0.01,\n",
       "                                        'enumeration': None},\n",
       "                                       'DTS_AccrPedlPosn': {'name': 'DTS_AccrPedlPosn',\n",
       "                                        'unit': '%',\n",
       "                                        'initial_value': 0.0,\n",
       "                                        'min': 0.0,\n",
       "                                        'max': 102.0,\n",
       "                                        'factor': 0.4,\n",
       "                                        'enumeration': None},\n",
       "                                       'DTS_VehMoveDir': {'name': 'DTS_VehMoveDir',\n",
       "                                        'unit': '',\n",
       "                                        'initial_value': 0.0,\n",
       "                                        'min': 0.0,\n",
       "                                        'max': 3.0,\n",
       "                                        'factor': 1.0,\n",
       "                                        'enumeration': None},\n",
       "                                       'DTS_ReadyToSleep': {'name': 'DTS_ReadyToSleep',\n",
       "                                        'unit': '',\n",
       "                                        'initial_value': 0.0,\n",
       "                                        'min': 0.0,\n",
       "                                        'max': 3.0,\n",
       "                                        'factor': 1.0,\n",
       "                                        'enumeration': None},\n",
       "                                       'DTS_ReadyToDrive': {'name': 'DTS_ReadyToDrive',\n",
       "                                        'unit': '',\n",
       "                                        'initial_value': 0.0,\n",
       "                                        'min': 0.0,\n",
       "                                        'max': 3.0,\n",
       "                                        'factor': 1.0,\n",
       "                                        'enumeration': None},\n",
       "                                       'DTS_Status1_checksum': {'name': 'DTS_Status1_checksum',\n",
       "                                        'unit': '',\n",
       "                                        'initial_value': 0.0,\n",
       "                                        'min': 0.0,\n",
       "                                        'max': 255.0,\n",
       "                                        'factor': 1.0,\n",
       "                                        'enumeration': None},\n",
       "                                       'DTS_Status1_counter': {'name': 'DTS_Status1_counter',\n",
       "                                        'unit': '',\n",
       "                                        'initial_value': 0.0,\n",
       "                                        'min': 0.0,\n",
       "                                        'max': 15.0,\n",
       "                                        'factor': 1.0,\n",
       "                                        'enumeration': None}})})})"
      ]
     },
     "metadata": {},
     "output_type": "display_data"
    },
    {
     "data": {
      "text/plain": [
       "{'name': 'DTS_AccrPedlPosn',\n",
       " 'unit': '%',\n",
       " 'initial_value': 0.0,\n",
       " 'min': 0.0,\n",
       " 'max': 102.0,\n",
       " 'factor': 0.4,\n",
       " 'enumeration': None}"
      ]
     },
     "metadata": {},
     "output_type": "display_data"
    },
    {
     "data": {
      "text/plain": [
       "[{'dbc': 'ACU_Arrival.dbc',\n",
       "  'msg': 'YRS_2',\n",
       "  'is_j1939': False,\n",
       "  'cycle_time': 10,\n",
       "  'SendOnChange': None}]"
      ]
     },
     "metadata": {},
     "output_type": "display_data"
    },
    {
     "data": {
      "text/plain": [
       "[{'dbc': 'ADAS_FlashData.dbc',\n",
       "  'msg': 'DCUFlashData',\n",
       "  'is_j1939': True,\n",
       "  'cycle_time': 0,\n",
       "  'SendOnChange': None}]"
      ]
     },
     "metadata": {},
     "output_type": "display_data"
    }
   ],
   "source": [
    "# how to get info\n",
    "dbc_db.dbc_name_db['DTS_Status1.dbc'];\n",
    "dbc_db.dbc_name_db['DTS_Status1.dbc']['DTS_Status1']['signals']['DTS_AccrPedlPosn'];\n",
    "dbc_db.dbc_id_db[201];\n",
    "dbc_db.dbc_pgn_db[65485];"
   ]
  },
  {
   "cell_type": "code",
   "execution_count": 10,
   "metadata": {},
   "outputs": [
    {
     "name": "stdout",
     "output_type": "stream",
     "text": [
      "dbc_msg db saved to C:\\Users\\ivanm\\Downloads\\temp\\FW\\EKL_DP187_v0_20251020_180400_v0.7.0_5cb89b4\\dbc\\dbc_db.xlsx\n",
      "dbc msg sig saved to C:\\Users\\ivanm\\Downloads\\temp\\FW\\EKL_DP187_v0_20251020_180400_v0.7.0_5cb89b4\\dbc\\dbcmsg_sig_db.xlsx\n"
     ]
    }
   ],
   "source": [
    "# get dataframe and save it to the same dir\n",
    "dbc_db.get_dbc_db_df(export_path=dbc_dir)\n",
    "# dbc_db converted to dataframe and saved into df and  xlsx file\n",
    "dbc_db.df.head(3);\n",
    "#  df with signals\n",
    "dbc_db.df_sig.head(3);"
   ]
  },
  {
   "cell_type": "code",
   "execution_count": 71,
   "metadata": {},
   "outputs": [
    {
     "name": "stdout",
     "output_type": "stream",
     "text": [
      "{'CAN': [(WindowsPath('dbc/ucs_dbc-0.12.0.0/DTS_Status1.dbc'), 2), (WindowsPath('dbc/ucs_dbc-0.12.0.0/GS.dbc'), 2), (WindowsPath('dbc/ucs_dbc-0.12.0.0/SimpVSM.dbc'), 2), (WindowsPath('dbc/ucs_dbc-0.12.0.0/ACU_Arrival.dbc'), 7), (WindowsPath('dbc/ucs_dbc-0.12.0.0/BRK_Status1.dbc'), 7), (WindowsPath('dbc/ucs_dbc-0.12.0.0/Chassis_CAN_v3_5_ModifiedInt.dbc'), 7), (WindowsPath('dbc/ucs_dbc-0.12.0.0/DTS_API.dbc'), 7), (WindowsPath('dbc/ucs_dbc-0.12.0.0/DTS_Status1.dbc'), 7), (WindowsPath('dbc/ucs_dbc-0.12.0.0/j1939.dbc'), 7), (WindowsPath('dbc/ucs_dbc-0.12.0.0/NTO_ARRIVAL_MANDO_CAN_SPEC_P.dbc'), 7), (WindowsPath('dbc/ucs_dbc-0.12.0.0/SC23S_general_customer.dbc'), 7)]}\n"
     ]
    },
    {
     "name": "stderr",
     "output_type": "stream",
     "text": [
      "c:\\D\\work\\py_work\\UCSDT_utils\\can_log_mdf_parse\\utils\\can_log_utils.py:1072: FutureWarning: Downcasting behavior in `replace` is deprecated and will be removed in a future version. To retain the old behavior, explicitly call `result.infer_objects(copy=False)`. To opt-in to the future behavior, set `pd.set_option('future.no_silent_downcasting', True)`\n",
      "  CAN_MAP.replace({1: True, 0: False},inplace=True)\n"
     ]
    },
    {
     "data": {
      "text/html": [
       "<div>\n",
       "<style scoped>\n",
       "    .dataframe tbody tr th:only-of-type {\n",
       "        vertical-align: middle;\n",
       "    }\n",
       "\n",
       "    .dataframe tbody tr th {\n",
       "        vertical-align: top;\n",
       "    }\n",
       "\n",
       "    .dataframe thead th {\n",
       "        text-align: right;\n",
       "    }\n",
       "</style>\n",
       "<table border=\"1\" class=\"dataframe\">\n",
       "  <thead>\n",
       "    <tr style=\"text-align: right;\">\n",
       "      <th></th>\n",
       "      <th>dbc</th>\n",
       "      <th>CAN2_VEH</th>\n",
       "      <th>CAN7_BRK</th>\n",
       "    </tr>\n",
       "  </thead>\n",
       "  <tbody>\n",
       "    <tr>\n",
       "      <th>1</th>\n",
       "      <td>ACU_Arrival.dbc</td>\n",
       "      <td>False</td>\n",
       "      <td>True</td>\n",
       "    </tr>\n",
       "    <tr>\n",
       "      <th>24</th>\n",
       "      <td>BRK_Status1.dbc</td>\n",
       "      <td>False</td>\n",
       "      <td>True</td>\n",
       "    </tr>\n",
       "    <tr>\n",
       "      <th>32</th>\n",
       "      <td>Chassis_CAN_v3_5_ModifiedInt.dbc</td>\n",
       "      <td>False</td>\n",
       "      <td>True</td>\n",
       "    </tr>\n",
       "    <tr>\n",
       "      <th>50</th>\n",
       "      <td>DTS_API.dbc</td>\n",
       "      <td>False</td>\n",
       "      <td>True</td>\n",
       "    </tr>\n",
       "    <tr>\n",
       "      <th>53</th>\n",
       "      <td>DTS_Status1.dbc</td>\n",
       "      <td>True</td>\n",
       "      <td>True</td>\n",
       "    </tr>\n",
       "  </tbody>\n",
       "</table>\n",
       "</div>"
      ],
      "text/plain": [
       "                                 dbc  CAN2_VEH  CAN7_BRK\n",
       "1                    ACU_Arrival.dbc     False      True\n",
       "24                   BRK_Status1.dbc     False      True\n",
       "32  Chassis_CAN_v3_5_ModifiedInt.dbc     False      True\n",
       "50                       DTS_API.dbc     False      True\n",
       "53                   DTS_Status1.dbc      True      True"
      ]
     },
     "execution_count": 71,
     "metadata": {},
     "output_type": "execute_result"
    }
   ],
   "source": [
    "# how to prepare CAN map to be used in mdf.extract_bus_logging\n",
    "DBC2CAN_MAPS_FILE=r'input\\VAN_CAN_MAPS.xlsx'\n",
    "can2ch_maps={'CAN2_VEH':2,'CAN7_BRK':7}\n",
    "(CAN_MAP,can_db1)=utls.get_can_map2extract(dbc_dir,can2ch_maps,DBC2CAN_MAPS_FILE=r'input\\VAN_CAN_MAPS.xlsx'\n",
    ")\n",
    "print(can_db1)\n",
    "CAN_MAP.head()\n",
    "# next use with extract_bus_logging\n",
    "# mdf1_extracted = mdf1.extract_bus_logging(database_files=can_db1)\n"
   ]
  }
 ],
 "metadata": {
  "kernelspec": {
   "display_name": "env_can",
   "language": "python",
   "name": "python3"
  },
  "language_info": {
   "codemirror_mode": {
    "name": "ipython",
    "version": 3
   },
   "file_extension": ".py",
   "mimetype": "text/x-python",
   "name": "python",
   "nbconvert_exporter": "python",
   "pygments_lexer": "ipython3",
   "version": "3.13.3"
  }
 },
 "nbformat": 4,
 "nbformat_minor": 2
}
