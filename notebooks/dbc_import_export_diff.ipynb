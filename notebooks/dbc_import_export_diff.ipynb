{
 "cells": [
  {
   "cell_type": "code",
   "execution_count": 1,
   "id": "fea0e798",
   "metadata": {},
   "outputs": [
    {
     "name": "stderr",
     "output_type": "stream",
     "text": [
      "ldf is not supported\n"
     ]
    }
   ],
   "source": [
    "from canmatrix import canmatrix\n",
    "from canmatrix import formats\n",
    "import os\n",
    "\n",
    "def extract_and_export_signal(dbc_input_path, signal_name, output_dbc_path):\n",
    "    # Load the input DBC file\n",
    "    db = canmatrix.CanMatrix()\n",
    "    formats.dbc_import(db, dbc_input_path)\n",
    "    \n",
    "    # Find the specified signal\n",
    "    target_signal = None\n",
    "    target_frame = None\n",
    "    for frame in db.frames:\n",
    "        for signal in frame.signals:\n",
    "            if signal.name == signal_name:\n",
    "                target_signal = signal\n",
    "                target_frame = frame\n",
    "                break\n",
    "        if target_signal:\n",
    "            break\n",
    "    \n",
    "    if not target_signal or not target_frame:\n",
    "        print(f\"Signal '{signal_name}' not found in DBC file\")\n",
    "        return\n",
    "    \n",
    "    # Create a new CanMatrix for the output\n",
    "    new_db = canmatrix.CanMatrix()\n",
    "    \n",
    "    # Create a new frame with the same properties as the original\n",
    "    new_frame = canmatrix.Frame(\n",
    "        name=target_frame.name,\n",
    "        arbitration_id=target_frame.arbitration_id,\n",
    "        size=target_frame.size\n",
    "    )\n",
    "    \n",
    "    # Add the target signal to the new frame\n",
    "    new_frame.add_signal(target_signal)\n",
    "    \n",
    "    # Add the frame to the new database\n",
    "    new_db.frames.append(new_frame)\n",
    "    \n",
    "    # Export to a new DBC file\n",
    "    with open(output_dbc_path, 'wb') as f:\n",
    "        f.write(formats.dbc_export(new_db))\n",
    "    \n",
    "    print(f\"Signal '{signal_name}' exported to {output_dbc_path}\")\n",
    "\n"
   ]
  },
  {
   "cell_type": "code",
   "execution_count": null,
   "id": "aa539f04",
   "metadata": {},
   "outputs": [],
   "source": [
    "input_dbc = \"input.dbc\"  # Path to your input DBC file\n",
    "signal_to_extract = \"EngineSpeed\"  # Name of the signal to extract\n",
    "output_dbc = \"output.dbc\"  # Path for the output DBC file\n",
    "\n",
    "extract_and_export_signal(input_dbc, signal_to_extract, output_dbc)"
   ]
  }
 ],
 "metadata": {
  "kernelspec": {
   "display_name": "ekl_dp187_1",
   "language": "python",
   "name": "python3"
  },
  "language_info": {
   "codemirror_mode": {
    "name": "ipython",
    "version": 3
   },
   "file_extension": ".py",
   "mimetype": "text/x-python",
   "name": "python",
   "nbconvert_exporter": "python",
   "pygments_lexer": "ipython3",
   "version": "3.13.2"
  }
 },
 "nbformat": 4,
 "nbformat_minor": 5
}
