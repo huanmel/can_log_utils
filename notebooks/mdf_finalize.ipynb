{
 "cells": [
  {
   "cell_type": "code",
   "execution_count": 1,
   "id": "6527548f",
   "metadata": {},
   "outputs": [
    {
     "name": "stdout",
     "output_type": "stream",
     "text": [
      "{\"key\":\"34e1b7af-06b2-472a-89a2-c3e854480261\",\"signature_scheme\":\"hmac-sha256\",\"transport\":\"tcp\",\"ip\":\"127.0.0.1\",\"hb_port\":9005,\"control_port\":9006,\"shell_port\":9007,\"stdin_port\":9008,\"iopub_port\":9009,\"kernel_name\":\"python3133jvsc74a57bd01493352cf6731aee5337afa6edda941d196f7be5c8af69b6b2383b146a3aecbd\"}\n",
      "\n",
      "Paste the above JSON into a file, and connect with:\n",
      "    $> jupyter <app> --existing <file>\n",
      "or, if you are local, you can connect with just:\n",
      "    $> jupyter <app> --existing c:\\Users\\ivanm\\AppData\\Roaming\\jupyter\\runtime\\kernel-v38c3687def010f906ac051c236eda0ce8e1d09c73.json\n",
      "or even just:\n",
      "    $> jupyter <app> --existing\n",
      "if this is the most recent Jupyter kernel you have started.\n"
     ]
    }
   ],
   "source": [
    "%load_ext autoreload\n",
    "%autoreload 2\n",
    "import warnings\n",
    "import os\n",
    "# from etils import ecolab\n",
    "import numpy as np\n",
    "from asammdf import MDF\n",
    "from pathlib import Path\n",
    "import logging\n",
    "from collections import  defaultdict\n",
    "import pandas as pd\n",
    "import matplotlib.pyplot as plt\n",
    "# from plotly.subplots import make_subplots\n",
    "\n",
    "\n",
    "\n",
    "# import  utils.can_log_utils as utls\n",
    "# from utils.dbc_db import DbcDb\n",
    "\n",
    "logging.getLogger('asammdf').setLevel(logging.DEBUG)\n",
    "%connect_info"
   ]
  },
  {
   "cell_type": "code",
   "execution_count": 2,
   "id": "4732a387",
   "metadata": {},
   "outputs": [
    {
     "name": "stderr",
     "output_type": "stream",
     "text": [
      "asammdf - INFO - Unfinalised file C:\\Users\\ivanm\\AppData\\Local\\Temp\\958176be65d4_00000001.MF4: Update of cycle counters for CG/CA blocks required\n",
      "asammdf - INFO - Unfinalised file C:\\Users\\ivanm\\AppData\\Local\\Temp\\958176be65d4_00000001.MF4: Update of length for last DT block required\n",
      "asammdf - INFO - Unfinalised file C:\\Users\\ivanm\\AppData\\Local\\Temp\\958176be65d4_00000001.MF4: Update of cg_data_bytes and cg_inval_bytes in VLSD CG block required\n",
      "asammdf - INFO - Attempting finalization of C:\\Users\\ivanm\\AppData\\Local\\Temp\\958176be65d4_00000001.MF4\n"
     ]
    }
   ],
   "source": [
    "log_file_in=r\"C:\\Users\\ivanm\\Downloads\\temp\\lin-data-pack-v1\\log-files\\114FED75\\00000004\\00000001.MF4\"\n",
    "log_file_out=r\"C:\\Users\\ivanm\\Downloads\\temp\\lin-data-pack-v1\\log-files\\114FED75\\00000004\\00000001_OUT.MF4\"\n",
    "mdf1 = MDF(log_file_in)    "
   ]
  },
  {
   "cell_type": "code",
   "execution_count": 3,
   "id": "96076acf",
   "metadata": {},
   "outputs": [
    {
     "data": {
      "text/plain": [
       "WindowsPath('C:/Users/ivanm/Downloads/temp/lin-data-pack-v1/log-files/114FED75/00000004/00000001_OUT.mf4')"
      ]
     },
     "execution_count": 3,
     "metadata": {},
     "output_type": "execute_result"
    }
   ],
   "source": [
    "mdf1.save(log_file_out, overwrite=True)"
   ]
  }
 ],
 "metadata": {
  "kernelspec": {
   "display_name": "env_can",
   "language": "python",
   "name": "python3"
  },
  "language_info": {
   "codemirror_mode": {
    "name": "ipython",
    "version": 3
   },
   "file_extension": ".py",
   "mimetype": "text/x-python",
   "name": "python",
   "nbconvert_exporter": "python",
   "pygments_lexer": "ipython3",
   "version": "3.13.3"
  }
 },
 "nbformat": 4,
 "nbformat_minor": 5
}
